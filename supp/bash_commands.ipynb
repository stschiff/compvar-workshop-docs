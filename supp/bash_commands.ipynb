{
 "cells": [
  {
   "cell_type": "markdown",
   "metadata": {},
   "source": [
    "# Bash - Commands used for running the analyses in the Workshop"
   ]
  },
  {
   "cell_type": "markdown",
   "metadata": {},
   "source": [
    "## Exploring the Genotype Data"
   ]
  },
  {
   "cell_type": "code",
   "execution_count": 12,
   "metadata": {},
   "outputs": [
    {
     "name": "stdout",
     "output_type": "stream",
     "text": [
      "genotypes.geno  genotypes.ind  genotypes.snp  outgroupf3stats.params.txt\n"
     ]
    }
   ],
   "source": [
    "SDIR=~/share;\n",
    "cd $SDIR/genotype_data;\n",
    "ls"
   ]
  },
  {
   "cell_type": "markdown",
   "metadata": {},
   "source": [
    "Exploring the files. Here are the first 20 individuals:"
   ]
  },
  {
   "cell_type": "code",
   "execution_count": 2,
   "metadata": {},
   "outputs": [
    {
     "name": "stdout",
     "output_type": "stream",
     "text": [
      "             Yuk_009 M    Yukagir\n",
      "             Yuk_025 F    Yukagir\n",
      "             Yuk_022 F    Yukagir\n",
      "             Yuk_020 F    Yukagir\n",
      "               MC_40 M    Chukchi\n",
      "             Yuk_024 F    Yukagir\n",
      "             Yuk_023 F    Yukagir\n",
      "               MC_16 M    Chukchi\n",
      "               MC_15 F    Chukchi\n",
      "               MC_18 M    Chukchi\n",
      "             Yuk_004 M    Yukagir\n",
      "               MC_08 F    Chukchi\n",
      "             Nov_005 M   Nganasan\n",
      "               MC_25 F    Chukchi\n",
      "             Yuk_019 F    Yukagir\n",
      "             Yuk_011 M    Yukagir\n",
      "             Sesk_47 M   Chukchi1\n",
      "               MC_17 M    Chukchi\n",
      "             Yuk_021 M    Yukagir\n",
      "               MC_06 F    Chukchi\n"
     ]
    }
   ],
   "source": [
    "head -20 genotypes.ind"
   ]
  },
  {
   "cell_type": "markdown",
   "metadata": {},
   "source": [
    "And here the first 20 SNP rows:"
   ]
  },
  {
   "cell_type": "code",
   "execution_count": 3,
   "metadata": {},
   "outputs": [
    {
     "name": "stdout",
     "output_type": "stream",
     "text": [
      "            1_752566     1        0.020130          752566 G A\n",
      "            1_842013     1        0.022518          842013 T G\n",
      "            1_891021     1        0.024116          891021 G A\n",
      "            1_903426     1        0.024457          903426 C T\n",
      "            1_949654     1        0.025727          949654 A G\n",
      "           1_1018704     1        0.026288         1018704 A G\n",
      "           1_1045331     1        0.026665         1045331 G A\n",
      "           1_1048955     1        0.026674         1048955 A G\n",
      "           1_1061166     1        0.026711         1061166 T C\n",
      "           1_1108637     1        0.028311         1108637 G A\n",
      "           1_1120431     1        0.028916         1120431 G A\n",
      "           1_1156131     1        0.029335         1156131 T C\n",
      "           1_1157547     1        0.029356         1157547 T C\n",
      "           1_1158277     1        0.029367         1158277 G A\n",
      "           1_1161780     1        0.029391         1161780 C T\n",
      "           1_1170587     1        0.029450         1170587 C T\n",
      "           1_1205155     1        0.029735         1205155 A C\n",
      "           1_1211292     1        0.029785         1211292 C T\n",
      "           1_1235792     1        0.030045         1235792 C T\n",
      "           1_1254255     1        0.030111         1254255 G A\n"
     ]
    }
   ],
   "source": [
    "head -20 genotypes.snp"
   ]
  },
  {
   "cell_type": "markdown",
   "metadata": {},
   "source": [
    "And here are the first 20 genotypes of the first 100 individuals:"
   ]
  },
  {
   "cell_type": "code",
   "execution_count": 4,
   "metadata": {},
   "outputs": [
    {
     "name": "stdout",
     "output_type": "stream",
     "text": [
      "0101101211102210102021200100010200000011001000200001010110001100001111101001110200110111212110000011\n",
      "2012121012210011122100111202201222121102222121121012202221211212202201101201220222122012011112122022\n",
      "1100112001110021001001111000011200000111100001110001110100002100110111120000102200110112011020001001\n",
      "0000112210222121221121100202221222122112112211202122222221022222111221102200112222122211012121022011\n",
      "0000000000000000000000000000100000000000000000100010000000000000000000000000000100000011201120010000\n",
      "1012100221102201101121110120110000010012002010200100010011100100011011101110120200010100000002010111\n",
      "2222222222222222222222222222222222222222222222222222222222222222222222222222222222121222222222122222\n",
      "2211222002212022102001212222212212222210122212121222112222221112122111222222122021221122222222222222\n",
      "2211222002212022102001212202012212212210122212121122112221221112121111222122112021211121011121222211\n",
      "2222222222102222202222222222222222222222222211222212122222122122222222222222222122221212212212222222\n",
      "2212222212122222222222222222221222222222222220221122222222122221212222221222222202222210012292222222\n",
      "1101100001000001001000000222010021200001202110101111110122100021211110001221120002110000202110121222\n",
      "1221121221222211221222222121221222212222222222222222222211121221212122221202101222212222021012222222\n",
      "1221121221222211221222222121221222212222222222222222222211121221212122221202101222212222021012222222\n",
      "1221121221222211221222222121221222212222222222222222222211121221212122221202101222212222021012222222\n",
      "2222222222222222222222222222222222222222222222222222222222222222222222222222222222222222021012222222\n",
      "2222222222222222222222222222222222222222222222222222222222222222222222222222222222121211000001222222\n",
      "1011111102100111001100200122221022211211222021212200120222112121221120012221222102020101000001222212\n",
      "2222222222222222222222222222222222222222222222222222222222222222222222222222222222222211000112222222\n",
      "2122121212102221202222222222222221122212222192222211122222222112222222222122222122221222222222122222\n"
     ]
    }
   ],
   "source": [
    "head -20 genotypes.geno | cut -c1-100"
   ]
  },
  {
   "cell_type": "markdown",
   "metadata": {},
   "source": [
    "Counting how many individuals and SNPs there are:"
   ]
  },
  {
   "cell_type": "code",
   "execution_count": 5,
   "metadata": {},
   "outputs": [
    {
     "name": "stdout",
     "output_type": "stream",
     "text": [
      "1351 genotypes.ind\n",
      "593124 genotypes.snp\n"
     ]
    }
   ],
   "source": [
    "wc -l genotypes.ind\n",
    "wc -l genotypes.snp"
   ]
  },
  {
   "cell_type": "markdown",
   "metadata": {},
   "source": [
    "And now we check that the first row of the `*.geno` file indeed contains the same number of columns:"
   ]
  },
  {
   "cell_type": "code",
   "execution_count": 6,
   "metadata": {},
   "outputs": [
    {
     "name": "stdout",
     "output_type": "stream",
     "text": [
      "1352\n"
     ]
    }
   ],
   "source": [
    "head -1 genotypes.geno | wc -c"
   ]
  },
  {
   "cell_type": "markdown",
   "metadata": {},
   "source": [
    "which is one more, including the newline character at the end of the line. Now counting the number of rows in the `*.geno`-file (this takes a few seconds, as the file is >2Gb):"
   ]
  },
  {
   "cell_type": "code",
   "execution_count": 7,
   "metadata": {},
   "outputs": [
    {
     "name": "stdout",
     "output_type": "stream",
     "text": [
      "593124 genotypes.geno\n"
     ]
    }
   ],
   "source": [
    "wc -l genotypes.geno"
   ]
  },
  {
   "cell_type": "markdown",
   "metadata": {},
   "source": [
    "Great, the number of rows and columns agrees with the numbers indicated in the `*.ind` and `*.snp` file!\n",
    "Now we're counting how many different populations there are. Let's first see the first 10 populations in the sorted list, alongside the number of individuals in each group:"
   ]
  },
  {
   "cell_type": "code",
   "execution_count": 8,
   "metadata": {},
   "outputs": [
    {
     "name": "stdout",
     "output_type": "stream",
     "text": [
      "      9 Abkhasian\n",
      "     16 Adygei\n",
      "      6 Albanian\n",
      "      7 Aleut\n",
      "      4 Aleut_Tlingit\n",
      "      7 Altaian\n",
      "     10 Ami\n",
      "     10 Armenian\n",
      "      9 Atayal\n",
      "     10 Balkar\n",
      "     29 Basque\n",
      "     25 BedouinA\n",
      "     19 BedouinB\n",
      "     10 Belarusian\n",
      "      6 BolshoyOleniOstrov\n",
      "      9 Borneo\n",
      "     10 Bulgarian\n",
      "      8 Cambodian\n",
      "      2 Canary_Islander\n",
      "      2 ChalmnyVarre\n"
     ]
    }
   ],
   "source": [
    "awk '{print $3}' genotypes.ind | sort | uniq -c | head -20"
   ]
  },
  {
   "cell_type": "markdown",
   "metadata": {},
   "source": [
    "As you can see, there are a number of populations with only one sample. Those are typically ancient individuals which are considered individually in most analyses. Let's filter those out and count only populations with at least two individuals and count them:"
   ]
  },
  {
   "cell_type": "code",
   "execution_count": 9,
   "metadata": {},
   "outputs": [
    {
     "name": "stdout",
     "output_type": "stream",
     "text": [
      "114\n"
     ]
    }
   ],
   "source": [
    "awk '{print $3}' genotypes.ind | sort | uniq -c | awk '$1>1' | wc -l"
   ]
  },
  {
   "cell_type": "markdown",
   "metadata": {},
   "source": [
    "OK, so there are 114 populations in this dataset."
   ]
  },
  {
   "cell_type": "markdown",
   "metadata": {},
   "source": [
    "## Running `smartPCA`"
   ]
  },
  {
   "cell_type": "markdown",
   "metadata": {},
   "source": [
    "We first have to create a parameter file with the input and output data."
   ]
  },
  {
   "cell_type": "code",
   "execution_count": 73,
   "metadata": {
    "collapsed": true
   },
   "outputs": [],
   "source": [
    "WDIR=~/work/share/solutions\n",
    "mkdir -p $WDIR\n",
    "cd $WDIR\n",
    "cat <<EOF > pca.WestEurasia.params.txt\n",
    "genotypename: $SDIR/genotype_data/genotypes.geno\n",
    "snpname: $SDIR/genotype_data/genotypes.snp\n",
    "indivname: $SDIR/genotype_data/genotypes.ind\n",
    "evecoutname: $WDIR/pca.WestEurasia.evec\n",
    "evaloutname: $WDIR/pca.WestEurasia.eval\n",
    "poplistname: $SDIR/WestEurasia.poplist.txt\n",
    "lsqproject: YES\n",
    "numoutevec: 4\n",
    "numthreads: 1\n",
    "EOF"
   ]
  },
  {
   "cell_type": "markdown",
   "metadata": {},
   "source": [
    "Let's see whether it worked:"
   ]
  },
  {
   "cell_type": "code",
   "execution_count": 74,
   "metadata": {},
   "outputs": [
    {
     "name": "stdout",
     "output_type": "stream",
     "text": [
      "genotypename: /home/training/share/genotype_data/genotypes.geno\n",
      "snpname: /home/training/share/genotype_data/genotypes.snp\n",
      "indivname: /home/training/share/genotype_data/genotypes.ind\n",
      "evecoutname: /home/training/work/share/solutions/pca.WestEurasia.evec\n",
      "evaloutname: /home/training/work/share/solutions/pca.WestEurasia.eval\n",
      "poplistname: /home/training/share/WestEurasia.poplist.txt\n",
      "lsqproject: YES\n",
      "numoutevec: 4\n"
     ]
    }
   ],
   "source": [
    "cat pca.WestEurasia.params.txt"
   ]
  },
  {
   "cell_type": "markdown",
   "metadata": {},
   "source": [
    "Good, now we can run `smartPCA`:"
   ]
  },
  {
   "cell_type": "code",
   "execution_count": null,
   "metadata": {
    "scrolled": true
   },
   "outputs": [],
   "source": [
    "time smartpca -p pca.WestEurasia.params.txt > pca.WestEurasia.log.txt"
   ]
  },
  {
   "cell_type": "markdown",
   "metadata": {
    "collapsed": true
   },
   "source": [
    "This has run for 15 minutes. Now we'll run the AllEurasia one:"
   ]
  },
  {
   "cell_type": "code",
   "execution_count": 75,
   "metadata": {
    "collapsed": true
   },
   "outputs": [],
   "source": [
    "WDIR=~/work/share/solutions\n",
    "mkdir -p $WDIR\n",
    "cd $WDIR\n",
    "cat <<EOF > pca.AllEurasia.params.txt\n",
    "genotypename: $SDIR/genotype_data/genotypes.geno\n",
    "snpname: $SDIR/genotype_data/genotypes.snp\n",
    "indivname: $SDIR/genotype_data/genotypes.ind\n",
    "evecoutname: $WDIR/pca.AllEurasia.evec\n",
    "evaloutname: $WDIR/pca.AllEurasia.eval\n",
    "poplistname: $SDIR/AllEurasia.poplist.txt\n",
    "lsqproject: YES\n",
    "numoutevec: 4\n",
    "numthreads: 1\n",
    "EOF"
   ]
  },
  {
   "cell_type": "code",
   "execution_count": 76,
   "metadata": {},
   "outputs": [
    {
     "name": "stdout",
     "output_type": "stream",
     "text": [
      "genotypename: /home/training/share/genotype_data/genotypes.geno\n",
      "snpname: /home/training/share/genotype_data/genotypes.snp\n",
      "indivname: /home/training/share/genotype_data/genotypes.ind\n",
      "evecoutname: /home/training/work/share/solutions/pca.AllEurasia.evec\n",
      "evaloutname: /home/training/work/share/solutions/pca.AllEurasia.eval\n",
      "poplistname: /home/training/share/AllEurasia.poplist.txt\n",
      "lsqproject: YES\n",
      "numoutevec: 4\n"
     ]
    }
   ],
   "source": [
    "cat pca.AllEurasia.params.txt"
   ]
  },
  {
   "cell_type": "code",
   "execution_count": null,
   "metadata": {},
   "outputs": [],
   "source": [
    "time smartpca -p pca.AllEurasia.params.txt"
   ]
  },
  {
   "cell_type": "markdown",
   "metadata": {
    "collapsed": true
   },
   "source": [
    "## Running Admixture F3"
   ]
  },
  {
   "cell_type": "markdown",
   "metadata": {},
   "source": [
    "Preparing the population file:"
   ]
  },
  {
   "cell_type": "code",
   "execution_count": 39,
   "metadata": {
    "collapsed": true
   },
   "outputs": [],
   "source": [
    "WDIR=~/work/share/solutions\n",
    "mkdir -p $WDIR\n",
    "cd $WDIR\n",
    "cat <<EOF > $WDIR/f3.poplist.txt\n",
    "Nganasan French Finnish \n",
    "Nganasan Icelandic Finnish \n",
    "Nganasan Lithuanian Finnish \n",
    "Nganasan Norwegian Finnish \n",
    "BolshoyOleniOstrov French Finnish \n",
    "BolshoyOleniOstrov Icelandic Finnish \n",
    "BolshoyOleniOstrov Lithuanian Finnish \n",
    "BolshoyOleniOstrov Norwegian Finnish\n",
    "EOF"
   ]
  },
  {
   "cell_type": "code",
   "execution_count": 41,
   "metadata": {},
   "outputs": [
    {
     "name": "stdout",
     "output_type": "stream",
     "text": [
      "Nganasan French Finnish \n",
      "Nganasan Icelandic Finnish \n",
      "Nganasan Lithuanian Finnish \n",
      "Nganasan Norwegian Finnish \n",
      "BolshoyOleniOstrov French Finnish \n",
      "BolshoyOleniOstrov Icelandic Finnish \n",
      "BolshoyOleniOstrov Lithuanian Finnish \n",
      "BolshoyOleniOstrov Norwegian Finnish\n"
     ]
    }
   ],
   "source": [
    "cat $WDIR/f3.poplist.txt"
   ]
  },
  {
   "cell_type": "code",
   "execution_count": 42,
   "metadata": {
    "collapsed": true
   },
   "outputs": [],
   "source": [
    "WDIR=~/work/share/solutions\n",
    "mkdir -p $WDIR\n",
    "cd $WDIR\n",
    "cat <<EOF > f3stats.params.txt\n",
    "genotypename: $SDIR/genotype_data/genotypes.smaller.geno\n",
    "snpname: $SDIR/genotype_data/genotypes.smaller.snp\n",
    "indivname: $SDIR/genotype_data/genotypes.smaller.ind\n",
    "popfilename: $WDIR/f3.poplist.txt\n",
    "inbreed: YES\n",
    "EOF"
   ]
  },
  {
   "cell_type": "code",
   "execution_count": 43,
   "metadata": {},
   "outputs": [
    {
     "name": "stdout",
     "output_type": "stream",
     "text": [
      "genotypename: /home/training/work/share/genotype_data/genotypes.smaller.geno\n",
      "snpname: /home/training/work/share/genotype_data/genotypes.smaller.snp\n",
      "indivname: /home/training/work/share/genotype_data/genotypes.smaller.ind\n",
      "popfilename: /home/training/work/share/solutions/f3.poplist.txt\n",
      "inbreed: YES\n"
     ]
    }
   ],
   "source": [
    "cat f3stats.params.txt"
   ]
  },
  {
   "cell_type": "code",
   "execution_count": 44,
   "metadata": {},
   "outputs": [
    {
     "name": "stdout",
     "output_type": "stream",
     "text": [
      "qp3Pop: parameter file: f3stats.params.txt\n",
      "### THE INPUT PARAMETERS\n",
      "##PARAMETER NAME: VALUE\n",
      "genotypename: /home/training/work/share/genotype_data/genotypes.smaller.geno\n",
      "snpname: /home/training/work/share/genotype_data/genotypes.smaller.snp\n",
      "indivname: /home/training/work/share/genotype_data/genotypes.smaller.ind\n",
      "popfilename: /home/training/work/share/solutions/f3.poplist.txt\n",
      "inbreed: YES\n",
      "## qp3Pop version: 435\n",
      "inbreed set\n",
      "nplist: 8\n",
      "number of blocks for block jackknife: 711\n",
      "snps: 593124\n",
      "                      Source 1             Source 2               Target           f_3       std. err           Z    SNPs\n",
      " result:              Nganasan               French              Finnish     -0.004539       0.000510      -8.894  442567\n",
      " result:              Nganasan            Icelandic              Finnish     -0.005297       0.000563      -9.404  427954\n",
      " result:              Nganasan           Lithuanian              Finnish     -0.005062       0.000590      -8.574  426231\n",
      " result:              Nganasan            Norwegian              Finnish     -0.004744       0.000569      -8.332  428161\n",
      " result:    BolshoyOleniOstrov               French              Finnish     -0.002814       0.000444      -6.341  402958\n",
      " result:    BolshoyOleniOstrov            Icelandic              Finnish     -0.002590       0.000486      -5.323  386418\n",
      " result:    BolshoyOleniOstrov           Lithuanian              Finnish     -0.001523       0.000536      -2.840  384134\n",
      " result:    BolshoyOleniOstrov            Norwegian              Finnish     -0.001553       0.000502      -3.092  386203\n",
      "##end of qp3Pop:      190.789 seconds cpu      327.410 Mbytes in use\n",
      "\n",
      "real\t3m10.903s\n",
      "user\t3m10.156s\n",
      "sys\t0m0.664s\n"
     ]
    }
   ],
   "source": [
    "time qp3Pop -p f3stats.params.txt"
   ]
  },
  {
   "cell_type": "markdown",
   "metadata": {
    "collapsed": true
   },
   "source": [
    "## Running D stats"
   ]
  },
  {
   "cell_type": "code",
   "execution_count": 17,
   "metadata": {
    "collapsed": true
   },
   "outputs": [],
   "source": [
    "WDIR=~/work/share/solutions\n",
    "cat <<EOF > $WDIR/dstat.poplist.txt\n",
    "Mbuti Nganasan French Finnish \n",
    "Mbuti Nganasan Icelandic Finnish \n",
    "Mbuti Nganasan Lithuanian Finnish \n",
    "Mbuti Nganasan Norwegian Finnish \n",
    "Mbuti BolshoyOleniOstrov French Finnish \n",
    "Mbuti BolshoyOleniOstrov Icelandic Finnish \n",
    "Mbuti BolshoyOleniOstrov Lithuanian Finnish \n",
    "Mbuti BolshoyOleniOstrov Norwegian Finnish\n",
    "EOF"
   ]
  },
  {
   "cell_type": "code",
   "execution_count": 18,
   "metadata": {
    "scrolled": true
   },
   "outputs": [
    {
     "name": "stdout",
     "output_type": "stream",
     "text": [
      "Mbuti Nganasan French Finnish \n",
      "Mbuti Nganasan Icelandic Finnish \n",
      "Mbuti Nganasan Lithuanian Finnish \n",
      "Mbuti Nganasan Norwegian Finnish \n",
      "Mbuti BolshoyOleniOstrov French Finnish \n",
      "Mbuti BolshoyOleniOstrov Icelandic Finnish \n",
      "Mbuti BolshoyOleniOstrov Lithuanian Finnish \n",
      "Mbuti BolshoyOleniOstrov Norwegian Finnish\n"
     ]
    }
   ],
   "source": [
    "cat $WDIR/dstat.poplist.txt"
   ]
  },
  {
   "cell_type": "code",
   "execution_count": 19,
   "metadata": {
    "collapsed": true
   },
   "outputs": [],
   "source": [
    "cat <<EOF > $WDIR/dstats.params.txt\n",
    "genotypename: $SDIR/genotype_data/genotypes.geno\n",
    "snpname: $SDIR/genotype_data/genotypes.snp\n",
    "indivname: $SDIR/genotype_data/genotypes.ind\n",
    "popfilename: $WDIR/dstat.poplist.txt\n",
    "f4mode: YES\n",
    "EOF"
   ]
  },
  {
   "cell_type": "code",
   "execution_count": 20,
   "metadata": {
    "scrolled": true
   },
   "outputs": [
    {
     "name": "stdout",
     "output_type": "stream",
     "text": [
      "genotypename: /home/training/share/genotype_data/genotypes.geno\n",
      "snpname: /home/training/share/genotype_data/genotypes.snp\n",
      "indivname: /home/training/share/genotype_data/genotypes.ind\n",
      "popfilename: /home/training/work/share/solutions/dstat.poplist.txt\n",
      "f4mode: YES\n"
     ]
    }
   ],
   "source": [
    "cat $WDIR/dstats.params.txt"
   ]
  },
  {
   "cell_type": "code",
   "execution_count": 21,
   "metadata": {
    "scrolled": true
   },
   "outputs": [
    {
     "name": "stdout",
     "output_type": "stream",
     "text": [
      "qpDstat: parameter file: /home/training/work/share/solutions/dstats.params.txt\n",
      "### THE INPUT PARAMETERS\n",
      "##PARAMETER NAME: VALUE\n",
      "genotypename: /home/training/share/genotype_data/genotypes.geno\n",
      "snpname: /home/training/share/genotype_data/genotypes.snp\n",
      "indivname: /home/training/share/genotype_data/genotypes.ind\n",
      "popfilename: /home/training/work/share/solutions/dstat.poplist.txt\n",
      "f4mode: YES\n",
      "## qpDstat version: 755\n",
      "number of quadruples 8\n",
      "  0                Mbuti   10\n",
      "  1             Nganasan   11\n",
      "  2   BolshoyOleniOstrov    6\n",
      "  3               French   32\n",
      "  4            Icelandic   12\n",
      "  5           Lithuanian   10\n",
      "  6            Norwegian   11\n",
      "  7              Finnish    8\n",
      "jackknife block size:     0.050\n",
      "snps: 593124  indivs: 100\n",
      "number of blocks for jackknife: 711\n",
      "nrows, ncols: 100 593124\n",
      "result:      Mbuti   Nganasan     French    Finnish      0.002363     19.016   29254  27852 593124 \n",
      "result:      Mbuti   Nganasan  Icelandic    Finnish      0.001721     11.926   28915  27894 593124 \n",
      "result:      Mbuti   Nganasan Lithuanian    Finnish      0.001368      9.664   28745  27933 593124 \n",
      "result:      Mbuti   Nganasan  Norwegian    Finnish      0.001685     11.663   28933  27934 593124 \n",
      "result:      Mbuti BolshoyOleniOstrov     French    Finnish      0.001962     16.737   27249  26175 547486 \n",
      "result:      Mbuti BolshoyOleniOstrov  Icelandic    Finnish      0.001084      7.776   26876  26282 547486 \n",
      "result:      Mbuti BolshoyOleniOstrov Lithuanian    Finnish      0.000554      3.942   26683  26380 547486 \n",
      "result:      Mbuti BolshoyOleniOstrov  Norwegian    Finnish      0.000952      6.707   26873  26351 547486 \n",
      "##end of qpDstat:      172.851 seconds cpu      731.099 Mbytes in use\n",
      "\n",
      "real\t2m52.891s\n",
      "user\t2m52.136s\n",
      "sys\t0m0.744s\n"
     ]
    }
   ],
   "source": [
    "time qpDstat -p $WDIR/dstats.params.txt"
   ]
  },
  {
   "cell_type": "markdown",
   "metadata": {},
   "source": [
    "## Outgroup F3 stats"
   ]
  },
  {
   "cell_type": "code",
   "execution_count": 27,
   "metadata": {},
   "outputs": [],
   "source": [
    "cat <<EOF > $WDIR/outgroupf3stats.params.txt\n",
    "genotypename: $SDIR/genotype_data/genotypes.geno\n",
    "snpname: $SDIR/genotype_data/genotypes.snp\n",
    "indivname: $SDIR/genotype_data/genotypes.ind\n",
    "popfilename: $WDIR/outgroupF3pops_Han.txt\n",
    "EOF"
   ]
  },
  {
   "cell_type": "code",
   "execution_count": 28,
   "metadata": {
    "scrolled": true
   },
   "outputs": [
    {
     "name": "stdout",
     "output_type": "stream",
     "text": [
      "genotypename: /home/training/share/genotype_data/genotypes.geno\n",
      "snpname: /home/training/share/genotype_data/genotypes.snp\n",
      "indivname: /home/training/share/genotype_data/genotypes.ind\n",
      "popfilename: /home/training/work/share/solutions/outgroupF3pops_Han.txt\n"
     ]
    }
   ],
   "source": [
    "cat $WDIR/outgroupf3stats.params.txt"
   ]
  },
  {
   "cell_type": "code",
   "execution_count": 29,
   "metadata": {
    "scrolled": false
   },
   "outputs": [
    {
     "name": "stdout",
     "output_type": "stream",
     "text": [
      "qp3Pop: parameter file: /home/training/work/share/solutions/outgroupf3stats.params.txt\n",
      "### THE INPUT PARAMETERS\n",
      "##PARAMETER NAME: VALUE\n",
      "genotypename: /home/training/share/genotype_data/genotypes.geno\n",
      "snpname: /home/training/share/genotype_data/genotypes.snp\n",
      "indivname: /home/training/share/genotype_data/genotypes.ind\n",
      "popfilename: /home/training/work/share/solutions/outgroupF3pops_Han.txt\n",
      "## qp3Pop version: 435\n",
      "nplist: 32\n",
      "number of blocks for block jackknife: 711\n",
      "snps: 593124\n",
      "                      Source 1             Source 2               Target           f_3       std. err           Z    SNPs\n",
      " result:                   Han              Chuvash                Mbuti      0.233652       0.002072     112.782  502678\n",
      " result:                   Han             Albanian                Mbuti      0.215629       0.002029     106.291  501734\n",
      " result:                   Han             Armenian                Mbuti      0.213724       0.001963     108.882  504370\n",
      " result:                   Han            Bulgarian                Mbuti      0.216193       0.001979     109.266  504310\n",
      " result:                   Han                Czech                Mbuti      0.218060       0.002002     108.939  504089\n",
      " result:                   Han                Druze                Mbuti      0.209551       0.001919     109.205  510853\n",
      " result:                   Han              English                Mbuti      0.216959       0.001973     109.954  504161\n",
      " result:                   Han             Estonian                Mbuti      0.220730       0.002019     109.332  503503\n",
      " result:                   Han              Finnish                Mbuti      0.223447       0.002044     109.345  502217\n",
      " result:                   Han               French                Mbuti      0.216623       0.001969     110.012  509613\n",
      " result:                   Han             Georgian                Mbuti      0.214295       0.001935     110.721  503598\n",
      " result:                   Han                Greek                Mbuti      0.215203       0.001984     108.465  507475\n",
      " result:                   Han            Hungarian                Mbuti      0.217894       0.001999     109.004  507409\n",
      " result:                   Han            Icelandic                Mbuti      0.218683       0.002015     108.553  504655\n",
      " result:                   Han        Italian_North                Mbuti      0.215332       0.001978     108.854  507589\n",
      " result:                   Han        Italian_South                Mbuti      0.211787       0.002271      93.265  492400\n",
      " result:                   Han           Lithuanian                Mbuti      0.219615       0.002032     108.098  503681\n",
      " result:                   Han              Maltese                Mbuti      0.210359       0.001956     107.542  503985\n",
      " result:                   Han            Mordovian                Mbuti      0.223469       0.002008     111.296  503441\n",
      " result:                   Han            Norwegian                Mbuti      0.218873       0.002023     108.197  504621\n",
      " result:                   Han             Orcadian                Mbuti      0.217773       0.002014     108.115  504993\n",
      " result:                   Han              Russian                Mbuti      0.223993       0.001995     112.274  506525\n",
      " result:                   Han            Sardinian                Mbuti      0.213230       0.001980     107.711  508413\n",
      " result:                   Han             Scottish                Mbuti      0.218489       0.002039     107.145  499784\n",
      " result:                   Han             Sicilian                Mbuti      0.212272       0.001975     107.486  505477\n",
      " result:                   Han        Spanish_North                Mbuti      0.215885       0.002029     106.383  500853\n",
      " result:                   Han              Spanish                Mbuti      0.213869       0.001975     108.297  513648\n",
      " result:                   Han            Ukrainian                Mbuti      0.218716       0.002007     108.950  503981\n",
      " result:                   Han           Levanluhta                Mbuti      0.236252       0.002383      99.123  263049\n",
      " result:                   Han   BolshoyOleniOstrov                Mbuti      0.247814       0.002177     113.849  457102\n",
      " result:                   Han         ChalmnyVarre                Mbuti      0.233499       0.002304     101.345  366220\n",
      " result:                   Han             Saami.DG                Mbuti      0.236198       0.002274     103.852  489038\n",
      "##end of qp3Pop:      296.879 seconds cpu      327.410 Mbytes in use\n",
      "\n",
      "real\t4m56.909s\n",
      "user\t4m56.140s\n",
      "sys\t0m0.756s\n"
     ]
    }
   ],
   "source": [
    "time qp3Pop -p $WDIR/outgroupf3stats.params.txt"
   ]
  },
  {
   "cell_type": "code",
   "execution_count": 30,
   "metadata": {
    "collapsed": true
   },
   "outputs": [],
   "source": [
    "cat <<EOF > $WDIR/outgroupf3stats.params.txt\n",
    "genotypename: $SDIR/genotype_data/genotypes.geno\n",
    "snpname: $SDIR/genotype_data/genotypes.snp\n",
    "indivname: $SDIR/genotype_data/genotypes.ind\n",
    "popfilename: $WDIR/outgroupF3pops_MA1.txt\n",
    "EOF"
   ]
  },
  {
   "cell_type": "code",
   "execution_count": 31,
   "metadata": {},
   "outputs": [
    {
     "name": "stdout",
     "output_type": "stream",
     "text": [
      "genotypename: /home/training/share/genotype_data/genotypes.geno\n",
      "snpname: /home/training/share/genotype_data/genotypes.snp\n",
      "indivname: /home/training/share/genotype_data/genotypes.ind\n",
      "popfilename: /home/training/work/share/solutions/outgroupF3pops_MA1.txt\n"
     ]
    }
   ],
   "source": [
    "cat $WDIR/outgroupf3stats.params.txt"
   ]
  },
  {
   "cell_type": "code",
   "execution_count": 32,
   "metadata": {},
   "outputs": [
    {
     "name": "stdout",
     "output_type": "stream",
     "text": [
      "qp3Pop: parameter file: /home/training/work/share/solutions/outgroupf3stats.params.txt\n",
      "### THE INPUT PARAMETERS\n",
      "##PARAMETER NAME: VALUE\n",
      "genotypename: /home/training/share/genotype_data/genotypes.geno\n",
      "snpname: /home/training/share/genotype_data/genotypes.snp\n",
      "indivname: /home/training/share/genotype_data/genotypes.ind\n",
      "popfilename: /home/training/work/share/solutions/outgroupF3pops_MA1.txt\n",
      "## qp3Pop version: 435\n",
      "nplist: 32\n",
      "number of blocks for block jackknife: 711\n",
      "snps: 593124\n",
      "                      Source 1             Source 2               Target           f_3       std. err           Z    SNPs\n",
      " result:             MA1_HG.SG              Chuvash                Mbuti      0.243818       0.002349     103.781  350484\n",
      " result:             MA1_HG.SG             Albanian                Mbuti      0.236494       0.002296     103.008  344332\n",
      " result:             MA1_HG.SG             Armenian                Mbuti      0.231399       0.002264     102.229  349612\n",
      " result:             MA1_HG.SG            Bulgarian                Mbuti      0.237498       0.002281     104.103  349800\n",
      " result:             MA1_HG.SG                Czech                Mbuti      0.243224       0.002328     104.457  349553\n",
      " result:             MA1_HG.SG                Druze                Mbuti      0.226740       0.002197     103.193  359004\n",
      " result:             MA1_HG.SG              English                Mbuti      0.243135       0.002317     104.941  349321\n",
      " result:             MA1_HG.SG             Estonian                Mbuti      0.247065       0.002362     104.619  348861\n",
      " result:             MA1_HG.SG              Finnish                Mbuti      0.245684       0.002379     103.266  347208\n",
      " result:             MA1_HG.SG               French                Mbuti      0.240235       0.002269     105.886  357842\n",
      " result:             MA1_HG.SG             Georgian                Mbuti      0.232645       0.002253     103.243  349082\n",
      " result:             MA1_HG.SG                Greek                Mbuti      0.236566       0.002280     103.757  355261\n",
      " result:             MA1_HG.SG            Hungarian                Mbuti      0.241720       0.002313     104.483  355340\n",
      " result:             MA1_HG.SG            Icelandic                Mbuti      0.244488       0.002386     102.481  350287\n",
      " result:             MA1_HG.SG        Italian_North                Mbuti      0.236407       0.002273     104.002  354999\n",
      " result:             MA1_HG.SG        Italian_South                Mbuti      0.230839       0.002767      83.427  321217\n",
      " result:             MA1_HG.SG           Lithuanian                Mbuti      0.246864       0.002403     102.718  348656\n",
      " result:             MA1_HG.SG              Maltese                Mbuti      0.230200       0.002259     101.903  347725\n",
      " result:             MA1_HG.SG            Mordovian                Mbuti      0.245284       0.002346     104.571  350058\n",
      " result:             MA1_HG.SG            Norwegian                Mbuti      0.243930       0.002301     106.031  350182\n",
      " result:             MA1_HG.SG             Orcadian                Mbuti      0.243614       0.002320     105.008  351053\n",
      " result:             MA1_HG.SG              Russian                Mbuti      0.245212       0.002298     106.698  355953\n",
      " result:             MA1_HG.SG            Sardinian                Mbuti      0.231967       0.002264     102.449  355548\n",
      " result:             MA1_HG.SG             Scottish                Mbuti      0.244598       0.002434     100.512  339441\n",
      " result:             MA1_HG.SG             Sicilian                Mbuti      0.231141       0.002260     102.297  351028\n",
      " result:             MA1_HG.SG        Spanish_North                Mbuti      0.238479       0.002426      98.319  341661\n",
      " result:             MA1_HG.SG              Spanish                Mbuti      0.235386       0.002257     104.293  361951\n",
      " result:             MA1_HG.SG            Ukrainian                Mbuti      0.243551       0.002345     103.881  348948\n",
      " result:             MA1_HG.SG           Levanluhta                Mbuti      0.247704       0.003055      81.090  172055\n",
      " result:             MA1_HG.SG   BolshoyOleniOstrov                Mbuti      0.256041       0.002624      97.561  305851\n",
      " result:             MA1_HG.SG         ChalmnyVarre                Mbuti      0.249619       0.002862      87.212  239594\n",
      " result:             MA1_HG.SG             Saami.DG                Mbuti      0.251530       0.002622      95.922  326072\n",
      "##end of qp3Pop:      219.087 seconds cpu      327.410 Mbytes in use\n",
      "\n",
      "real\t3m39.156s\n",
      "user\t3m38.432s\n",
      "sys\t0m0.672s\n"
     ]
    }
   ],
   "source": [
    "time qp3Pop -p $WDIR/outgroupf3stats.params.txt"
   ]
  },
  {
   "cell_type": "code",
   "execution_count": null,
   "metadata": {
    "collapsed": true
   },
   "outputs": [],
   "source": []
  }
 ],
 "metadata": {
  "kernelspec": {
   "display_name": "Bash",
   "language": "bash",
   "name": "bash"
  },
  "language_info": {
   "codemirror_mode": "shell",
   "file_extension": ".sh",
   "mimetype": "text/x-sh",
   "name": "bash"
  }
 },
 "nbformat": 4,
 "nbformat_minor": 2
}
